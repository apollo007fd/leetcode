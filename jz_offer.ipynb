{
 "cells": [
  {
   "cell_type": "markdown",
   "metadata": {},
   "source": [
    "#### question10_1 斐波那契数列"
   ]
  },
  {
   "cell_type": "markdown",
   "metadata": {},
   "source": [
    "[leetcode题目](https://leetcode-cn.com/problems/fei-bo-na-qi-shu-lie-lcof/)  \n",
    "#### 解法1\n",
    "[解法1代码]()  \n",
    "分析：int最大正整数:2e31-1,两个小于10e9+7的正整数相加，不会int溢出,两个小于10e9+7的正整数相加，不会大于2倍10e9+7，因此两数之和对10e9+7求余数，相当于用和减去10e9+7，减法代替取余数会快很多。"
   ]
  },
  {
   "cell_type": "code",
   "execution_count": null,
   "metadata": {},
   "outputs": [],
   "source": []
  }
 ],
 "metadata": {
  "kernelspec": {
   "display_name": "Python [conda env:explore]",
   "language": "python",
   "name": "conda-env-explore-py"
  },
  "language_info": {
   "codemirror_mode": {
    "name": "ipython",
    "version": 3
   },
   "file_extension": ".py",
   "mimetype": "text/x-python",
   "name": "python",
   "nbconvert_exporter": "python",
   "pygments_lexer": "ipython3",
   "version": "3.6.4"
  }
 },
 "nbformat": 4,
 "nbformat_minor": 4
}
